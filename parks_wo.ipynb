{
  "nbformat": 4,
  "nbformat_minor": 0,
  "metadata": {
    "colab": {
      "name": "Copy of parks_wo.ipynb",
      "provenance": [],
      "machine_shape": "hm",
      "mount_file_id": "1hWm2ovLSL5wVTxT5DXYCJRc3qODoFTGy",
      "authorship_tag": "ABX9TyMM5A7g8TtuvotaXp+tMEsm",
      "include_colab_link": true
    },
    "kernelspec": {
      "name": "python3",
      "display_name": "Python 3"
    }
  },
  "cells": [
    {
      "cell_type": "markdown",
      "metadata": {
        "id": "view-in-github",
        "colab_type": "text"
      },
      "source": [
        "<a href=\"https://colab.research.google.com/github/RitaRitaIsOOO/Parks_WO_Analysis/blob/master/parks_wo.ipynb\" target=\"_parent\"><img src=\"https://colab.research.google.com/assets/colab-badge.svg\" alt=\"Open In Colab\"/></a>"
      ]
    },
    {
      "cell_type": "markdown",
      "metadata": {
        "id": "YY0eLbQv9n2Z",
        "colab_type": "text"
      },
      "source": [
        "# **Work Orders within NYC Parks Propeties**\n",
        "The Asset Management Parks System (AMPS) is used by NYC Parks to track work completed by specialized staff or crews, including tradespeople. It also contains asset (primarily parks and structures) records and supplies associated with this work. Parks staff use AMPS to track their work as it is completed. \n",
        "\n",
        "There are 6 datasets that make up the AMPS system.  For this particular project 2 out of the 6 datasets will be used. \n"
      ]
    },
    {
      "cell_type": "code",
      "metadata": {
        "id": "p_1P6O1jzvJT",
        "colab_type": "code",
        "outputId": "2a8368e0-0b74-420f-bdc6-5a5fa33ff376",
        "colab": {
          "base_uri": "https://localhost:8080/",
          "height": 87
        }
      },
      "source": [
        "import numpy as np\n",
        "import pandas as pd\n",
        "import pandas.util.testing as tm\n",
        "from scipy import stats\n",
        "import matplotlib.pyplot as plt\n",
        "%matplotlib inline\n",
        "import seaborn as sns\n",
        "import datetime\n",
        "\n",
        "print('import successful')"
      ],
      "execution_count": 1,
      "outputs": [
        {
          "output_type": "stream",
          "text": [
            "/usr/local/lib/python3.6/dist-packages/ipykernel_launcher.py:3: FutureWarning: pandas.util.testing is deprecated. Use the functions in the public API at pandas.testing instead.\n",
            "  This is separate from the ipykernel package so we can avoid doing imports until\n"
          ],
          "name": "stderr"
        },
        {
          "output_type": "stream",
          "text": [
            "import successful\n"
          ],
          "name": "stdout"
        }
      ]
    },
    {
      "cell_type": "markdown",
      "metadata": {
        "id": "csa8cvwM-Eyo",
        "colab_type": "text"
      },
      "source": [
        "# **Step 1: Loading Data**\n",
        "Data was downloaded from NYC Open Data.\n",
        "\n",
        "\n",
        "1.   **Work Order Dataset:** This is the primary table that tracks the work order decription, creation date, the start of the work and when work has been completed.  The primary key field is EVT_CODE. The EVT_OBJECT column can be joined to the Assets table on OBJ_CODE to know which asset the work order was for. \n",
        "\n",
        "2.   **Assets Dataset:** This data tracks the assests that the work order is attached to. Example of assests are buildings, parks, pieces of eqiupments, and maintanance districts. The primary key is OBJ_CODE. \n",
        "\n",
        "3. **Parks Properties:** Data displaying only the parks properties.  Data includes park names. The primary key is OMPPROPNUM column can be join to the Asset table on the OBJ_CODE column.\n",
        "\n",
        "\n",
        "\n"
      ]
    },
    {
      "cell_type": "code",
      "metadata": {
        "id": "8YjrXl-5l3qD",
        "colab_type": "code",
        "outputId": "ec3485ba-c783-488c-8f85-cf271f411099",
        "colab": {
          "base_uri": "https://localhost:8080/",
          "height": 67
        }
      },
      "source": [
        "#Work Order Table\n",
        "DPRwo_orig = pd.read_csv('https://data.cityofnewyork.us/api/views/8sdw-8vja/rows.csv?accessType=DOWNLOAD', index_col=None, na_values=['NA'],\n",
        "sep=',',low_memory=False)\n",
        "# Asset Table\n",
        "DPRassets_orig = pd.read_csv('https://data.cityofnewyork.us/api/views/e25p-jzfy/rows.csv?accessType=DOWNLOAD', index_col=None, na_values=['NA'],\n",
        "sep=',',low_memory=False)\n",
        "#Parks Propety Table\n",
        "parks_orig = pd.read_csv('https://data.cityofnewyork.us/api/views/enfh-gkve/rows.csv?accessType=DOWNLOAD', index_col=None, na_values=['NA'],\n",
        "sep=',',low_memory=False)\n",
        "\n",
        "#Checking if data was downloaded successfully. \n",
        "WO = DPRwo_orig.copy()\n",
        "print('wo data loaded successfully')\n",
        "asset = DPRassets_orig.copy()\n",
        "print ('asset data loaded successfully')\n",
        "parks = parks_orig.copy()\n",
        "print ('parks properties data loaded succefully')"
      ],
      "execution_count": 2,
      "outputs": [
        {
          "output_type": "stream",
          "text": [
            "wo data loaded successfully\n",
            "asset data loaded successfully\n",
            "parks properties data loaded succefully\n"
          ],
          "name": "stdout"
        }
      ]
    },
    {
      "cell_type": "code",
      "metadata": {
        "id": "ePP6UOFEl_q1",
        "colab_type": "code",
        "outputId": "06a7ae20-28c5-4175-8d77-07ddd33f66ed",
        "colab": {
          "base_uri": "https://localhost:8080/",
          "height": 67
        }
      },
      "source": [
        "#check datatype of table\n",
        "print(type(WO))\n",
        "print(type(asset))\n",
        "print(type(parks))"
      ],
      "execution_count": 3,
      "outputs": [
        {
          "output_type": "stream",
          "text": [
            "<class 'pandas.core.frame.DataFrame'>\n",
            "<class 'pandas.core.frame.DataFrame'>\n",
            "<class 'pandas.core.frame.DataFrame'>\n"
          ],
          "name": "stdout"
        }
      ]
    },
    {
      "cell_type": "markdown",
      "metadata": {
        "id": "zUyUugDeFT_8",
        "colab_type": "text"
      },
      "source": [
        "# **Step 2: Checking tables**"
      ]
    },
    {
      "cell_type": "code",
      "metadata": {
        "id": "tdtiG21omDl9",
        "colab_type": "code",
        "outputId": "d65a799e-8208-4d1c-f385-ebddc74c6b8e",
        "colab": {
          "base_uri": "https://localhost:8080/",
          "height": 1000
        }
      },
      "source": [
        "# Checking columns names and record count in each column\n",
        "WO.info()"
      ],
      "execution_count": 4,
      "outputs": [
        {
          "output_type": "stream",
          "text": [
            "<class 'pandas.core.frame.DataFrame'>\n",
            "RangeIndex: 1560360 entries, 0 to 1560359\n",
            "Data columns (total 56 columns):\n",
            " #   Column               Non-Null Count    Dtype  \n",
            "---  ------               --------------    -----  \n",
            " 0   EVT_CODE             1560360 non-null  int64  \n",
            " 1   EVT_DESC             1560292 non-null  object \n",
            " 2   EVT_TYPE             1560360 non-null  object \n",
            " 3   EVT_DATE             1560360 non-null  object \n",
            " 4   EVT_MRC              1560360 non-null  object \n",
            " 5   EVT_PRINTED          1560360 non-null  object \n",
            " 6   EVT_OBTYPE           1560360 non-null  object \n",
            " 7   EVT_OBJECT           1560360 non-null  object \n",
            " 8   EVT_STANDWORK        907454 non-null   object \n",
            " 9   EVT_PPM              48005 non-null    object \n",
            " 10  EVT_FREQ             48712 non-null    float64\n",
            " 11  EVT_ISSTYPE          1560360 non-null  object \n",
            " 12  EVT_CLASS            1044833 non-null  object \n",
            " 13  EVT_ROUTE            110190 non-null   object \n",
            " 14  EVT_TARGET           823639 non-null   object \n",
            " 15  EVT_DURATION         1560360 non-null  int64  \n",
            " 16  EVT_PARENT           74204 non-null    float64\n",
            " 17  EVT_REQM             469478 non-null   object \n",
            " 18  EVT_JOBTYPE          1383589 non-null  object \n",
            " 19  EVT_PRIORITY         711218 non-null   object \n",
            " 20  EVT_REPORTED         1235812 non-null  object \n",
            " 21  EVT_START            609265 non-null   object \n",
            " 22  EVT_DUE              42473 non-null    object \n",
            " 23  EVT_COMPLETED        1537598 non-null  object \n",
            " 24  EVT_WARRANTY         1560360 non-null  object \n",
            " 25  EVT_SAFETY           1560360 non-null  object \n",
            " 26  EVT_REOPENED         1560360 non-null  object \n",
            " 27  EVT_SCHEDEND         824509 non-null   object \n",
            " 28  EVT_CREATED          1560360 non-null  object \n",
            " 29  EVT_UPDATED          942617 non-null   object \n",
            " 30  EVT_UPDATECOUNT      1560360 non-null  int64  \n",
            " 31  EVT_PERIODUOM        48712 non-null    object \n",
            " 32  EVT_SQLIDENTITY      1560360 non-null  int64  \n",
            " 33  EVT_MULTIEQUIP       1560360 non-null  object \n",
            " 34  EVT_COMPLETED_TRUNC  1537598 non-null  object \n",
            " 35  EVT_UDFCHAR01        391974 non-null   object \n",
            " 36  EVT_UDFCHAR02        74 non-null       object \n",
            " 37  EVT_UDFCHAR03        982728 non-null   object \n",
            " 38  EVT_UDFCHAR04        74 non-null       object \n",
            " 39  EVT_UDFCHAR05        60382 non-null    object \n",
            " 40  EVT_UDFCHAR06        894064 non-null   object \n",
            " 41  EVT_UDFCHAR08        1034016 non-null  object \n",
            " 42  EVT_UDFCHAR10        552705 non-null   object \n",
            " 43  EVT_UDFCHAR11        121646 non-null   object \n",
            " 44  EVT_UDFCHAR12        728735 non-null   object \n",
            " 45  EVT_UDFCHAR13        1499982 non-null  object \n",
            " 46  EVT_UDFCHAR14        210045 non-null   object \n",
            " 47  EVT_UDFCHAR15        9921 non-null     object \n",
            " 48  EVT_UDFCHAR16        1451 non-null     object \n",
            " 49  EVT_UDFNUM01         20052 non-null    float64\n",
            " 50  EVT_UDFNUM02         0 non-null        float64\n",
            " 51  EVT_UDFCHKBOX01      1557878 non-null  object \n",
            " 52  EVT_UDFCHKBOX02      1554910 non-null  object \n",
            " 53  EVT_UDFCHKBOX03      1554910 non-null  object \n",
            " 54  EVT_UDFCHKBOX04      1554910 non-null  object \n",
            " 55  EVT_UDFCHKBOX05      1554910 non-null  object \n",
            "dtypes: float64(4), int64(4), object(48)\n",
            "memory usage: 666.7+ MB\n"
          ],
          "name": "stdout"
        }
      ]
    },
    {
      "cell_type": "code",
      "metadata": {
        "id": "_7ePvVAfUPVo",
        "colab_type": "code",
        "outputId": "5879bcf0-9849-408b-c54f-f20727b9e003",
        "colab": {
          "base_uri": "https://localhost:8080/",
          "height": 622
        }
      },
      "source": [
        "# Checking columns names and record count in each column\n",
        "asset.info()"
      ],
      "execution_count": 5,
      "outputs": [
        {
          "output_type": "stream",
          "text": [
            "<class 'pandas.core.frame.DataFrame'>\n",
            "RangeIndex: 124268 entries, 0 to 124267\n",
            "Data columns (total 29 columns):\n",
            " #   Column             Non-Null Count   Dtype  \n",
            "---  ------             --------------   -----  \n",
            " 0   OBJ_OBTYPE         124268 non-null  object \n",
            " 1   OBJ_CODE           124268 non-null  object \n",
            " 2   OBJ_DESC           124268 non-null  object \n",
            " 3   OBJ_CLASS          84237 non-null   object \n",
            " 4   OBJ_CATEGORY       11190 non-null   object \n",
            " 5   OBJ_POSITION       1097 non-null    object \n",
            " 6   OBJ_PARENT         35890 non-null   object \n",
            " 7   OBJ_MANUFACT       4242 non-null    object \n",
            " 8   OBJ_MRC            124181 non-null  object \n",
            " 9   OBJ_SERIALNO       24065 non-null   object \n",
            " 10  OBJ_STATUS         124268 non-null  object \n",
            " 11  OBJ_COMMISS        124267 non-null  object \n",
            " 12  OBJ_WITHDRAW       46580 non-null   object \n",
            " 13  OBJ_RECORD         124268 non-null  object \n",
            " 14  OBJ_NOTUSED        85350 non-null   object \n",
            " 15  OBJ_MANUFACTMODEL  23936 non-null   object \n",
            " 16  OBJ_VALUE          929 non-null     float64\n",
            " 17  OBJ_UPDATED        85350 non-null   object \n",
            " 18  OBJ_UPDATECOUNT    124268 non-null  int64  \n",
            " 19  OBJ_GISOBJID       47974 non-null   float64\n",
            " 20  OBJ_SQLIDENTITY    124268 non-null  int64  \n",
            " 21  OBJ_GISLAYER       47846 non-null   object \n",
            " 22  OBJ_XLOCATION      47846 non-null   float64\n",
            " 23  OBJ_YLOCATION      47846 non-null   float64\n",
            " 24  OBJ_UDFCHAR01      5208 non-null    object \n",
            " 25  OBJ_UDFCHAR02      1168 non-null    object \n",
            " 26  OBJ_UDFCHAR05      14991 non-null   object \n",
            " 27  OBJ_UDFCHAR06      955 non-null     object \n",
            " 28  OBJ_CREATED        50331 non-null   object \n",
            "dtypes: float64(4), int64(2), object(23)\n",
            "memory usage: 27.5+ MB\n"
          ],
          "name": "stdout"
        }
      ]
    },
    {
      "cell_type": "code",
      "metadata": {
        "id": "pR1j7dy7hYfw",
        "colab_type": "code",
        "outputId": "bc6f1bc1-c934-48b0-b720-df0fa7b929a8",
        "colab": {
          "base_uri": "https://localhost:8080/",
          "height": 739
        }
      },
      "source": [
        "# Checking columns names and record count in each column\n",
        "parks.info()"
      ],
      "execution_count": 6,
      "outputs": [
        {
          "output_type": "stream",
          "text": [
            "<class 'pandas.core.frame.DataFrame'>\n",
            "RangeIndex: 2017 entries, 0 to 2016\n",
            "Data columns (total 36 columns):\n",
            " #   Column           Non-Null Count  Dtype  \n",
            "---  ------           --------------  -----  \n",
            " 0   ACQUISITIONDATE  1930 non-null   object \n",
            " 1   ACRES            2017 non-null   float64\n",
            " 2   ADDRESS          1082 non-null   object \n",
            " 3   BOROUGH          2017 non-null   object \n",
            " 4   CLASS            2017 non-null   object \n",
            " 5   COMMISSIONDATE   1835 non-null   object \n",
            " 6   COMMUNITYBOARD   2017 non-null   object \n",
            " 7   COUNCILDISTRICT  2016 non-null   float64\n",
            " 8   DEPARTMENT       2017 non-null   object \n",
            " 9   EAPPLY           1932 non-null   object \n",
            " 10  GISOBJID         2017 non-null   int64  \n",
            " 11  GISPROPNUM       2017 non-null   object \n",
            " 12  GlobalID         2017 non-null   object \n",
            " 13  JURISDICTION     2017 non-null   object \n",
            " 14  LOCATION         2017 non-null   object \n",
            " 15  MAPPED           2011 non-null   object \n",
            " 16  NAME311          2016 non-null   object \n",
            " 17  NYS_ASSEMBLY     2017 non-null   int64  \n",
            " 18  NYS_SENATE       2016 non-null   float64\n",
            " 19  OBJECTID         2017 non-null   int64  \n",
            " 20  OMPPROPID        2017 non-null   object \n",
            " 21  PARENTID         2014 non-null   object \n",
            " 22  PERMIT           1913 non-null   object \n",
            " 23  PERMITDISTRICT   1971 non-null   object \n",
            " 24  PERMITPARENT     1969 non-null   object \n",
            " 25  PIP_RATABLE      1969 non-null   object \n",
            " 26  PRECINCT         1980 non-null   float64\n",
            " 27  RETIRED          2017 non-null   bool   \n",
            " 28  SIGNNAME         2017 non-null   object \n",
            " 29  SUBCATEGORY      1879 non-null   object \n",
            " 30  TYPECATEGORY     2017 non-null   object \n",
            " 31  URL              1907 non-null   object \n",
            " 32  US_CONGRESS      2016 non-null   float64\n",
            " 33  WATERFRONT       2017 non-null   bool   \n",
            " 34  ZIPCODE          2015 non-null   object \n",
            " 35  multipolygon     2017 non-null   object \n",
            "dtypes: bool(2), float64(5), int64(3), object(26)\n",
            "memory usage: 539.8+ KB\n"
          ],
          "name": "stdout"
        }
      ]
    },
    {
      "cell_type": "markdown",
      "metadata": {
        "id": "l2lzP5QEGZrO",
        "colab_type": "text"
      },
      "source": [
        "# **Step 3. Joining Tables**"
      ]
    },
    {
      "cell_type": "markdown",
      "metadata": {
        "id": "EcTEs5NtIIVI",
        "colab_type": "text"
      },
      "source": [
        "First Join - Work Order table to Asset Table"
      ]
    },
    {
      "cell_type": "code",
      "metadata": {
        "id": "Q21gwCMcVYhw",
        "colab_type": "code",
        "outputId": "12424311-e941-4091-e6d7-b2ce2e92aeac",
        "colab": {
          "base_uri": "https://localhost:8080/",
          "height": 286
        }
      },
      "source": [
        "amps_merge = pd.merge(WO, asset, left_on='EVT_OBJECT', right_on='OBJ_CODE', how='inner')\n",
        "amps = amps_merge\n",
        "amps.head(3)"
      ],
      "execution_count": 7,
      "outputs": [
        {
          "output_type": "execute_result",
          "data": {
            "text/html": [
              "<div>\n",
              "<style scoped>\n",
              "    .dataframe tbody tr th:only-of-type {\n",
              "        vertical-align: middle;\n",
              "    }\n",
              "\n",
              "    .dataframe tbody tr th {\n",
              "        vertical-align: top;\n",
              "    }\n",
              "\n",
              "    .dataframe thead th {\n",
              "        text-align: right;\n",
              "    }\n",
              "</style>\n",
              "<table border=\"1\" class=\"dataframe\">\n",
              "  <thead>\n",
              "    <tr style=\"text-align: right;\">\n",
              "      <th></th>\n",
              "      <th>EVT_CODE</th>\n",
              "      <th>EVT_DESC</th>\n",
              "      <th>EVT_TYPE</th>\n",
              "      <th>EVT_DATE</th>\n",
              "      <th>EVT_MRC</th>\n",
              "      <th>EVT_PRINTED</th>\n",
              "      <th>EVT_OBTYPE</th>\n",
              "      <th>EVT_OBJECT</th>\n",
              "      <th>EVT_STANDWORK</th>\n",
              "      <th>EVT_PPM</th>\n",
              "      <th>EVT_FREQ</th>\n",
              "      <th>EVT_ISSTYPE</th>\n",
              "      <th>EVT_CLASS</th>\n",
              "      <th>EVT_ROUTE</th>\n",
              "      <th>EVT_TARGET</th>\n",
              "      <th>EVT_DURATION</th>\n",
              "      <th>EVT_PARENT</th>\n",
              "      <th>EVT_REQM</th>\n",
              "      <th>EVT_JOBTYPE</th>\n",
              "      <th>EVT_PRIORITY</th>\n",
              "      <th>EVT_REPORTED</th>\n",
              "      <th>EVT_START</th>\n",
              "      <th>EVT_DUE</th>\n",
              "      <th>EVT_COMPLETED</th>\n",
              "      <th>EVT_WARRANTY</th>\n",
              "      <th>EVT_SAFETY</th>\n",
              "      <th>EVT_REOPENED</th>\n",
              "      <th>EVT_SCHEDEND</th>\n",
              "      <th>EVT_CREATED</th>\n",
              "      <th>EVT_UPDATED</th>\n",
              "      <th>EVT_UPDATECOUNT</th>\n",
              "      <th>EVT_PERIODUOM</th>\n",
              "      <th>EVT_SQLIDENTITY</th>\n",
              "      <th>EVT_MULTIEQUIP</th>\n",
              "      <th>EVT_COMPLETED_TRUNC</th>\n",
              "      <th>EVT_UDFCHAR01</th>\n",
              "      <th>EVT_UDFCHAR02</th>\n",
              "      <th>EVT_UDFCHAR03</th>\n",
              "      <th>EVT_UDFCHAR04</th>\n",
              "      <th>EVT_UDFCHAR05</th>\n",
              "      <th>...</th>\n",
              "      <th>EVT_UDFCHAR13</th>\n",
              "      <th>EVT_UDFCHAR14</th>\n",
              "      <th>EVT_UDFCHAR15</th>\n",
              "      <th>EVT_UDFCHAR16</th>\n",
              "      <th>EVT_UDFNUM01</th>\n",
              "      <th>EVT_UDFNUM02</th>\n",
              "      <th>EVT_UDFCHKBOX01</th>\n",
              "      <th>EVT_UDFCHKBOX02</th>\n",
              "      <th>EVT_UDFCHKBOX03</th>\n",
              "      <th>EVT_UDFCHKBOX04</th>\n",
              "      <th>EVT_UDFCHKBOX05</th>\n",
              "      <th>OBJ_OBTYPE</th>\n",
              "      <th>OBJ_CODE</th>\n",
              "      <th>OBJ_DESC</th>\n",
              "      <th>OBJ_CLASS</th>\n",
              "      <th>OBJ_CATEGORY</th>\n",
              "      <th>OBJ_POSITION</th>\n",
              "      <th>OBJ_PARENT</th>\n",
              "      <th>OBJ_MANUFACT</th>\n",
              "      <th>OBJ_MRC</th>\n",
              "      <th>OBJ_SERIALNO</th>\n",
              "      <th>OBJ_STATUS</th>\n",
              "      <th>OBJ_COMMISS</th>\n",
              "      <th>OBJ_WITHDRAW</th>\n",
              "      <th>OBJ_RECORD</th>\n",
              "      <th>OBJ_NOTUSED</th>\n",
              "      <th>OBJ_MANUFACTMODEL</th>\n",
              "      <th>OBJ_VALUE</th>\n",
              "      <th>OBJ_UPDATED</th>\n",
              "      <th>OBJ_UPDATECOUNT</th>\n",
              "      <th>OBJ_GISOBJID</th>\n",
              "      <th>OBJ_SQLIDENTITY</th>\n",
              "      <th>OBJ_GISLAYER</th>\n",
              "      <th>OBJ_XLOCATION</th>\n",
              "      <th>OBJ_YLOCATION</th>\n",
              "      <th>OBJ_UDFCHAR01</th>\n",
              "      <th>OBJ_UDFCHAR02</th>\n",
              "      <th>OBJ_UDFCHAR05</th>\n",
              "      <th>OBJ_UDFCHAR06</th>\n",
              "      <th>OBJ_CREATED</th>\n",
              "    </tr>\n",
              "  </thead>\n",
              "  <tbody>\n",
              "    <tr>\n",
              "      <th>0</th>\n",
              "      <td>1698630</td>\n",
              "      <td>Rat Abatement</td>\n",
              "      <td>JOB</td>\n",
              "      <td>May 19 2018  8:58AM</td>\n",
              "      <td>M-03</td>\n",
              "      <td>-</td>\n",
              "      <td>S</td>\n",
              "      <td>M358-GT001</td>\n",
              "      <td>NaN</td>\n",
              "      <td>NaN</td>\n",
              "      <td>NaN</td>\n",
              "      <td>F</td>\n",
              "      <td>NaN</td>\n",
              "      <td>NaN</td>\n",
              "      <td>Jul  6 2018 12:00AM</td>\n",
              "      <td>26</td>\n",
              "      <td>NaN</td>\n",
              "      <td>NaN</td>\n",
              "      <td>GTBR</td>\n",
              "      <td>1-LOW</td>\n",
              "      <td>May 19 2018  8:58AM</td>\n",
              "      <td>NaN</td>\n",
              "      <td>NaN</td>\n",
              "      <td>NaN</td>\n",
              "      <td>-</td>\n",
              "      <td>-</td>\n",
              "      <td>-</td>\n",
              "      <td>Jul 31 2018 12:00AM</td>\n",
              "      <td>May 19 2018  9:31AM</td>\n",
              "      <td>Apr 11 2019  9:54AM</td>\n",
              "      <td>4</td>\n",
              "      <td>NaN</td>\n",
              "      <td>1671524</td>\n",
              "      <td>-</td>\n",
              "      <td>NaN</td>\n",
              "      <td>4. URG</td>\n",
              "      <td>NaN</td>\n",
              "      <td>GRNTHUMB</td>\n",
              "      <td>NaN</td>\n",
              "      <td>NaN</td>\n",
              "      <td>...</td>\n",
              "      <td>GT Open</td>\n",
              "      <td>NaN</td>\n",
              "      <td>NaN</td>\n",
              "      <td>NaN</td>\n",
              "      <td>NaN</td>\n",
              "      <td>NaN</td>\n",
              "      <td>+</td>\n",
              "      <td>-</td>\n",
              "      <td>-</td>\n",
              "      <td>+</td>\n",
              "      <td>-</td>\n",
              "      <td>S</td>\n",
              "      <td>M358-GT001</td>\n",
              "      <td>First Street Garden</td>\n",
              "      <td>GRNTHUMB</td>\n",
              "      <td>NaN</td>\n",
              "      <td>NaN</td>\n",
              "      <td>M358</td>\n",
              "      <td>NaN</td>\n",
              "      <td>M-03</td>\n",
              "      <td>NaN</td>\n",
              "      <td>I</td>\n",
              "      <td>Dec 18 2018 12:00AM</td>\n",
              "      <td>NaN</td>\n",
              "      <td>Apr 14 2020  2:20PM</td>\n",
              "      <td>-</td>\n",
              "      <td>NaN</td>\n",
              "      <td>NaN</td>\n",
              "      <td>Apr 14 2020  2:20PM</td>\n",
              "      <td>5</td>\n",
              "      <td>100041153.0</td>\n",
              "      <td>117356</td>\n",
              "      <td>Greenthumb</td>\n",
              "      <td>987131.93156</td>\n",
              "      <td>203054.141841</td>\n",
              "      <td>NaN</td>\n",
              "      <td>NaN</td>\n",
              "      <td>005 - Spanish/Chinese</td>\n",
              "      <td>NaN</td>\n",
              "      <td>Dec 18 2018  3:23PM</td>\n",
              "    </tr>\n",
              "    <tr>\n",
              "      <th>1</th>\n",
              "      <td>1833744</td>\n",
              "      <td>S M358-GT001 -V</td>\n",
              "      <td>IN</td>\n",
              "      <td>Dec 18 2018  3:23PM</td>\n",
              "      <td>M-03</td>\n",
              "      <td>-</td>\n",
              "      <td>S</td>\n",
              "      <td>M358-GT001</td>\n",
              "      <td>NaN</td>\n",
              "      <td>NaN</td>\n",
              "      <td>NaN</td>\n",
              "      <td>F</td>\n",
              "      <td>NaN</td>\n",
              "      <td>NaN</td>\n",
              "      <td>Dec 18 2018 12:00AM</td>\n",
              "      <td>1</td>\n",
              "      <td>NaN</td>\n",
              "      <td>NaN</td>\n",
              "      <td>NaN</td>\n",
              "      <td>NaN</td>\n",
              "      <td>Dec 18 2018  3:23PM</td>\n",
              "      <td>NaN</td>\n",
              "      <td>NaN</td>\n",
              "      <td>Dec 18 2018  3:23PM</td>\n",
              "      <td>-</td>\n",
              "      <td>-</td>\n",
              "      <td>-</td>\n",
              "      <td>Dec 18 2018 12:00AM</td>\n",
              "      <td>Dec 18 2018  3:23PM</td>\n",
              "      <td>NaN</td>\n",
              "      <td>1</td>\n",
              "      <td>NaN</td>\n",
              "      <td>1787928</td>\n",
              "      <td>-</td>\n",
              "      <td>Dec 18 2018 12:00AM</td>\n",
              "      <td>NaN</td>\n",
              "      <td>NaN</td>\n",
              "      <td>NaN</td>\n",
              "      <td>NaN</td>\n",
              "      <td>NaN</td>\n",
              "      <td>...</td>\n",
              "      <td>Completed</td>\n",
              "      <td>NaN</td>\n",
              "      <td>NaN</td>\n",
              "      <td>NaN</td>\n",
              "      <td>NaN</td>\n",
              "      <td>NaN</td>\n",
              "      <td>-</td>\n",
              "      <td>-</td>\n",
              "      <td>-</td>\n",
              "      <td>-</td>\n",
              "      <td>-</td>\n",
              "      <td>S</td>\n",
              "      <td>M358-GT001</td>\n",
              "      <td>First Street Garden</td>\n",
              "      <td>GRNTHUMB</td>\n",
              "      <td>NaN</td>\n",
              "      <td>NaN</td>\n",
              "      <td>M358</td>\n",
              "      <td>NaN</td>\n",
              "      <td>M-03</td>\n",
              "      <td>NaN</td>\n",
              "      <td>I</td>\n",
              "      <td>Dec 18 2018 12:00AM</td>\n",
              "      <td>NaN</td>\n",
              "      <td>Apr 14 2020  2:20PM</td>\n",
              "      <td>-</td>\n",
              "      <td>NaN</td>\n",
              "      <td>NaN</td>\n",
              "      <td>Apr 14 2020  2:20PM</td>\n",
              "      <td>5</td>\n",
              "      <td>100041153.0</td>\n",
              "      <td>117356</td>\n",
              "      <td>Greenthumb</td>\n",
              "      <td>987131.93156</td>\n",
              "      <td>203054.141841</td>\n",
              "      <td>NaN</td>\n",
              "      <td>NaN</td>\n",
              "      <td>005 - Spanish/Chinese</td>\n",
              "      <td>NaN</td>\n",
              "      <td>Dec 18 2018  3:23PM</td>\n",
              "    </tr>\n",
              "    <tr>\n",
              "      <th>2</th>\n",
              "      <td>1834058</td>\n",
              "      <td>S M358-GT001 --&gt; S M358</td>\n",
              "      <td>AA</td>\n",
              "      <td>Dec 18 2018  3:53PM</td>\n",
              "      <td>M-03</td>\n",
              "      <td>-</td>\n",
              "      <td>S</td>\n",
              "      <td>M358-GT001</td>\n",
              "      <td>NaN</td>\n",
              "      <td>NaN</td>\n",
              "      <td>NaN</td>\n",
              "      <td>F</td>\n",
              "      <td>NaN</td>\n",
              "      <td>NaN</td>\n",
              "      <td>Dec 18 2018 12:00AM</td>\n",
              "      <td>1</td>\n",
              "      <td>NaN</td>\n",
              "      <td>NaN</td>\n",
              "      <td>NaN</td>\n",
              "      <td>NaN</td>\n",
              "      <td>Dec 18 2018  3:53PM</td>\n",
              "      <td>NaN</td>\n",
              "      <td>NaN</td>\n",
              "      <td>Dec 18 2018  3:53PM</td>\n",
              "      <td>-</td>\n",
              "      <td>-</td>\n",
              "      <td>-</td>\n",
              "      <td>Dec 18 2018 12:00AM</td>\n",
              "      <td>Dec 18 2018  3:53PM</td>\n",
              "      <td>NaN</td>\n",
              "      <td>1</td>\n",
              "      <td>NaN</td>\n",
              "      <td>1788242</td>\n",
              "      <td>-</td>\n",
              "      <td>Dec 18 2018 12:00AM</td>\n",
              "      <td>NaN</td>\n",
              "      <td>NaN</td>\n",
              "      <td>NaN</td>\n",
              "      <td>NaN</td>\n",
              "      <td>NaN</td>\n",
              "      <td>...</td>\n",
              "      <td>Completed</td>\n",
              "      <td>NaN</td>\n",
              "      <td>NaN</td>\n",
              "      <td>NaN</td>\n",
              "      <td>NaN</td>\n",
              "      <td>NaN</td>\n",
              "      <td>-</td>\n",
              "      <td>-</td>\n",
              "      <td>-</td>\n",
              "      <td>-</td>\n",
              "      <td>-</td>\n",
              "      <td>S</td>\n",
              "      <td>M358-GT001</td>\n",
              "      <td>First Street Garden</td>\n",
              "      <td>GRNTHUMB</td>\n",
              "      <td>NaN</td>\n",
              "      <td>NaN</td>\n",
              "      <td>M358</td>\n",
              "      <td>NaN</td>\n",
              "      <td>M-03</td>\n",
              "      <td>NaN</td>\n",
              "      <td>I</td>\n",
              "      <td>Dec 18 2018 12:00AM</td>\n",
              "      <td>NaN</td>\n",
              "      <td>Apr 14 2020  2:20PM</td>\n",
              "      <td>-</td>\n",
              "      <td>NaN</td>\n",
              "      <td>NaN</td>\n",
              "      <td>Apr 14 2020  2:20PM</td>\n",
              "      <td>5</td>\n",
              "      <td>100041153.0</td>\n",
              "      <td>117356</td>\n",
              "      <td>Greenthumb</td>\n",
              "      <td>987131.93156</td>\n",
              "      <td>203054.141841</td>\n",
              "      <td>NaN</td>\n",
              "      <td>NaN</td>\n",
              "      <td>005 - Spanish/Chinese</td>\n",
              "      <td>NaN</td>\n",
              "      <td>Dec 18 2018  3:23PM</td>\n",
              "    </tr>\n",
              "  </tbody>\n",
              "</table>\n",
              "<p>3 rows × 85 columns</p>\n",
              "</div>"
            ],
            "text/plain": [
              "   EVT_CODE                 EVT_DESC  ... OBJ_UDFCHAR06          OBJ_CREATED\n",
              "0   1698630            Rat Abatement  ...           NaN  Dec 18 2018  3:23PM\n",
              "1   1833744          S M358-GT001 -V  ...           NaN  Dec 18 2018  3:23PM\n",
              "2   1834058  S M358-GT001 --> S M358  ...           NaN  Dec 18 2018  3:23PM\n",
              "\n",
              "[3 rows x 85 columns]"
            ]
          },
          "metadata": {
            "tags": []
          },
          "execution_count": 7
        }
      ]
    },
    {
      "cell_type": "markdown",
      "metadata": {
        "id": "bvlBNZ4gIQLv",
        "colab_type": "text"
      },
      "source": [
        "* Second Join - First join table(amps_merge) to Parks property table\n",
        "* This join will give the names of the assest, which are the park properties. "
      ]
    },
    {
      "cell_type": "code",
      "metadata": {
        "id": "_WtpOyXHgiM8",
        "colab_type": "code",
        "outputId": "93e72737-78c0-4442-b210-82ca5d37c181",
        "colab": {
          "base_uri": "https://localhost:8080/",
          "height": 193
        }
      },
      "source": [
        "parks_amps_merge = pd.merge(amps, parks, left_on = 'EVT_OBJECT', right_on = 'OMPPROPID', how = 'inner')\n",
        "parks_wo = parks_amps_merge\n",
        "parks_wo.head(1)"
      ],
      "execution_count": 8,
      "outputs": [
        {
          "output_type": "execute_result",
          "data": {
            "text/html": [
              "<div>\n",
              "<style scoped>\n",
              "    .dataframe tbody tr th:only-of-type {\n",
              "        vertical-align: middle;\n",
              "    }\n",
              "\n",
              "    .dataframe tbody tr th {\n",
              "        vertical-align: top;\n",
              "    }\n",
              "\n",
              "    .dataframe thead th {\n",
              "        text-align: right;\n",
              "    }\n",
              "</style>\n",
              "<table border=\"1\" class=\"dataframe\">\n",
              "  <thead>\n",
              "    <tr style=\"text-align: right;\">\n",
              "      <th></th>\n",
              "      <th>EVT_CODE</th>\n",
              "      <th>EVT_DESC</th>\n",
              "      <th>EVT_TYPE</th>\n",
              "      <th>EVT_DATE</th>\n",
              "      <th>EVT_MRC</th>\n",
              "      <th>EVT_PRINTED</th>\n",
              "      <th>EVT_OBTYPE</th>\n",
              "      <th>EVT_OBJECT</th>\n",
              "      <th>EVT_STANDWORK</th>\n",
              "      <th>EVT_PPM</th>\n",
              "      <th>EVT_FREQ</th>\n",
              "      <th>EVT_ISSTYPE</th>\n",
              "      <th>EVT_CLASS</th>\n",
              "      <th>EVT_ROUTE</th>\n",
              "      <th>EVT_TARGET</th>\n",
              "      <th>EVT_DURATION</th>\n",
              "      <th>EVT_PARENT</th>\n",
              "      <th>EVT_REQM</th>\n",
              "      <th>EVT_JOBTYPE</th>\n",
              "      <th>EVT_PRIORITY</th>\n",
              "      <th>EVT_REPORTED</th>\n",
              "      <th>EVT_START</th>\n",
              "      <th>EVT_DUE</th>\n",
              "      <th>EVT_COMPLETED</th>\n",
              "      <th>EVT_WARRANTY</th>\n",
              "      <th>EVT_SAFETY</th>\n",
              "      <th>EVT_REOPENED</th>\n",
              "      <th>EVT_SCHEDEND</th>\n",
              "      <th>EVT_CREATED</th>\n",
              "      <th>EVT_UPDATED</th>\n",
              "      <th>EVT_UPDATECOUNT</th>\n",
              "      <th>EVT_PERIODUOM</th>\n",
              "      <th>EVT_SQLIDENTITY</th>\n",
              "      <th>EVT_MULTIEQUIP</th>\n",
              "      <th>EVT_COMPLETED_TRUNC</th>\n",
              "      <th>EVT_UDFCHAR01</th>\n",
              "      <th>EVT_UDFCHAR02</th>\n",
              "      <th>EVT_UDFCHAR03</th>\n",
              "      <th>EVT_UDFCHAR04</th>\n",
              "      <th>EVT_UDFCHAR05</th>\n",
              "      <th>...</th>\n",
              "      <th>OBJ_UDFCHAR02</th>\n",
              "      <th>OBJ_UDFCHAR05</th>\n",
              "      <th>OBJ_UDFCHAR06</th>\n",
              "      <th>OBJ_CREATED</th>\n",
              "      <th>ACQUISITIONDATE</th>\n",
              "      <th>ACRES</th>\n",
              "      <th>ADDRESS</th>\n",
              "      <th>BOROUGH</th>\n",
              "      <th>CLASS</th>\n",
              "      <th>COMMISSIONDATE</th>\n",
              "      <th>COMMUNITYBOARD</th>\n",
              "      <th>COUNCILDISTRICT</th>\n",
              "      <th>DEPARTMENT</th>\n",
              "      <th>EAPPLY</th>\n",
              "      <th>GISOBJID</th>\n",
              "      <th>GISPROPNUM</th>\n",
              "      <th>GlobalID</th>\n",
              "      <th>JURISDICTION</th>\n",
              "      <th>LOCATION</th>\n",
              "      <th>MAPPED</th>\n",
              "      <th>NAME311</th>\n",
              "      <th>NYS_ASSEMBLY</th>\n",
              "      <th>NYS_SENATE</th>\n",
              "      <th>OBJECTID</th>\n",
              "      <th>OMPPROPID</th>\n",
              "      <th>PARENTID</th>\n",
              "      <th>PERMIT</th>\n",
              "      <th>PERMITDISTRICT</th>\n",
              "      <th>PERMITPARENT</th>\n",
              "      <th>PIP_RATABLE</th>\n",
              "      <th>PRECINCT</th>\n",
              "      <th>RETIRED</th>\n",
              "      <th>SIGNNAME</th>\n",
              "      <th>SUBCATEGORY</th>\n",
              "      <th>TYPECATEGORY</th>\n",
              "      <th>URL</th>\n",
              "      <th>US_CONGRESS</th>\n",
              "      <th>WATERFRONT</th>\n",
              "      <th>ZIPCODE</th>\n",
              "      <th>multipolygon</th>\n",
              "    </tr>\n",
              "  </thead>\n",
              "  <tbody>\n",
              "    <tr>\n",
              "      <th>0</th>\n",
              "      <td>1853327</td>\n",
              "      <td>DELIVERY of 30 c/y of soil/compost mix to Sout...</td>\n",
              "      <td>JOB</td>\n",
              "      <td>Feb  1 2019  4:15PM</td>\n",
              "      <td>B-06</td>\n",
              "      <td>-</td>\n",
              "      <td>S</td>\n",
              "      <td>B559</td>\n",
              "      <td>NaN</td>\n",
              "      <td>NaN</td>\n",
              "      <td>NaN</td>\n",
              "      <td>F</td>\n",
              "      <td>NaN</td>\n",
              "      <td>NaN</td>\n",
              "      <td>Feb  1 2019 12:00AM</td>\n",
              "      <td>1</td>\n",
              "      <td>NaN</td>\n",
              "      <td>NaN</td>\n",
              "      <td>GTBR</td>\n",
              "      <td>NaN</td>\n",
              "      <td>Feb  1 2019  4:15PM</td>\n",
              "      <td>NaN</td>\n",
              "      <td>NaN</td>\n",
              "      <td>NaN</td>\n",
              "      <td>-</td>\n",
              "      <td>-</td>\n",
              "      <td>-</td>\n",
              "      <td>Feb  1 2019 12:00AM</td>\n",
              "      <td>Feb  1 2019  4:16PM</td>\n",
              "      <td>Feb 14 2019  9:41AM</td>\n",
              "      <td>1</td>\n",
              "      <td>NaN</td>\n",
              "      <td>1807410</td>\n",
              "      <td>-</td>\n",
              "      <td>NaN</td>\n",
              "      <td>3. HIGH</td>\n",
              "      <td>NaN</td>\n",
              "      <td>GRNTHUMB</td>\n",
              "      <td>NaN</td>\n",
              "      <td>NaN</td>\n",
              "      <td>...</td>\n",
              "      <td>NaN</td>\n",
              "      <td>001 - Spanish/French</td>\n",
              "      <td>NaN</td>\n",
              "      <td>NaN</td>\n",
              "      <td>2016-01-19 00:00:00.0000000</td>\n",
              "      <td>0.083</td>\n",
              "      <td>204 COLUMBIA STREET</td>\n",
              "      <td>B</td>\n",
              "      <td>PARK</td>\n",
              "      <td>2016-02-22 00:00:00.0000000</td>\n",
              "      <td>306</td>\n",
              "      <td>39.0</td>\n",
              "      <td>B-06</td>\n",
              "      <td>NaN</td>\n",
              "      <td>100024465</td>\n",
              "      <td>B559</td>\n",
              "      <td>F9E0F402-B606-4C84-87BD-982AD6C63003</td>\n",
              "      <td>DPR</td>\n",
              "      <td>Columbia St. bet. Sackett St. and De Graw St.</td>\n",
              "      <td>NaN</td>\n",
              "      <td>South Brooklyn Children's Garden</td>\n",
              "      <td>52</td>\n",
              "      <td>26.0</td>\n",
              "      <td>11889</td>\n",
              "      <td>B559</td>\n",
              "      <td>B-06</td>\n",
              "      <td>NaN</td>\n",
              "      <td>B-06</td>\n",
              "      <td>B-06</td>\n",
              "      <td>NaN</td>\n",
              "      <td>76.0</td>\n",
              "      <td>False</td>\n",
              "      <td>South Brooklyn Children's Garden</td>\n",
              "      <td>NaN</td>\n",
              "      <td>Garden</td>\n",
              "      <td>NaN</td>\n",
              "      <td>7.0</td>\n",
              "      <td>False</td>\n",
              "      <td>11231</td>\n",
              "      <td>MULTIPOLYGON (((-74.00273402302695 40.68521366...</td>\n",
              "    </tr>\n",
              "  </tbody>\n",
              "</table>\n",
              "<p>1 rows × 121 columns</p>\n",
              "</div>"
            ],
            "text/plain": [
              "   EVT_CODE  ...                                       multipolygon\n",
              "0   1853327  ...  MULTIPOLYGON (((-74.00273402302695 40.68521366...\n",
              "\n",
              "[1 rows x 121 columns]"
            ]
          },
          "metadata": {
            "tags": []
          },
          "execution_count": 8
        }
      ]
    },
    {
      "cell_type": "markdown",
      "metadata": {
        "id": "8onsInAkIh_m",
        "colab_type": "text"
      },
      "source": [
        "Checking the final join table information."
      ]
    },
    {
      "cell_type": "code",
      "metadata": {
        "id": "8Kq0gD1YnUvK",
        "colab_type": "code",
        "outputId": "e5360f1f-a4aa-4da2-d02d-50ce10f293a2",
        "colab": {
          "base_uri": "https://localhost:8080/",
          "height": 101
        }
      },
      "source": [
        "parks_wo.info() "
      ],
      "execution_count": 9,
      "outputs": [
        {
          "output_type": "stream",
          "text": [
            "<class 'pandas.core.frame.DataFrame'>\n",
            "Int64Index: 708810 entries, 0 to 708809\n",
            "Columns: 121 entries, EVT_CODE to multipolygon\n",
            "dtypes: bool(2), float64(13), int64(9), object(97)\n",
            "memory usage: 650.3+ MB\n"
          ],
          "name": "stdout"
        }
      ]
    },
    {
      "cell_type": "markdown",
      "metadata": {
        "id": "f5ZUoQzQInRI",
        "colab_type": "text"
      },
      "source": [
        "Checking the column names"
      ]
    },
    {
      "cell_type": "code",
      "metadata": {
        "id": "fyMALQkgqbLS",
        "colab_type": "code",
        "outputId": "0c8378c7-0aca-49ff-be6f-d34576cafd33",
        "colab": {
          "base_uri": "https://localhost:8080/",
          "height": 118
        }
      },
      "source": [
        "parks_wo.columns"
      ],
      "execution_count": 10,
      "outputs": [
        {
          "output_type": "execute_result",
          "data": {
            "text/plain": [
              "Index(['EVT_CODE', 'EVT_DESC', 'EVT_TYPE', 'EVT_DATE', 'EVT_MRC',\n",
              "       'EVT_PRINTED', 'EVT_OBTYPE', 'EVT_OBJECT', 'EVT_STANDWORK', 'EVT_PPM',\n",
              "       ...\n",
              "       'PRECINCT', 'RETIRED', 'SIGNNAME', 'SUBCATEGORY', 'TYPECATEGORY', 'URL',\n",
              "       'US_CONGRESS', 'WATERFRONT', 'ZIPCODE', 'multipolygon'],\n",
              "      dtype='object', length=121)"
            ]
          },
          "metadata": {
            "tags": []
          },
          "execution_count": 10
        }
      ]
    },
    {
      "cell_type": "markdown",
      "metadata": {
        "id": "vUJ4fbKnIsJA",
        "colab_type": "text"
      },
      "source": [
        "# **Step 4 - Cleaning Data**\n",
        "* Listing only the columuns needed for anaylysis and checking final table\n",
        "\n"
      ]
    },
    {
      "cell_type": "code",
      "metadata": {
        "id": "JXaSys-aArOj",
        "colab_type": "code",
        "outputId": "f1bed058-9431-4307-a817-5347183a9fc4",
        "colab": {
          "base_uri": "https://localhost:8080/",
          "height": 487
        }
      },
      "source": [
        "dpr_wo_final = parks_wo[['EVT_CODE','EVT_DESC', 'EVT_TYPE', 'EVT_DATE','EVT_OBJECT','EVT_START','EVT_COMPLETED','EVT_CREATED',\n",
        "          'EVT_COMPLETED_TRUNC','OBJ_OBTYPE', 'OBJ_CODE', 'OBJ_DESC',\n",
        "          'OBJ_XLOCATION', 'OBJ_YLOCATION','BOROUGH','COMMUNITYBOARD', 'COUNCILDISTRICT',\n",
        "       'DEPARTMENT', 'GISPROPNUM','OMPPROPID','SIGNNAME', ]]\n",
        "\n",
        "dpr_wo_final.columns\n",
        "dpr_wo_final.info()"
      ],
      "execution_count": 11,
      "outputs": [
        {
          "output_type": "stream",
          "text": [
            "<class 'pandas.core.frame.DataFrame'>\n",
            "Int64Index: 708810 entries, 0 to 708809\n",
            "Data columns (total 21 columns):\n",
            " #   Column               Non-Null Count   Dtype  \n",
            "---  ------               --------------   -----  \n",
            " 0   EVT_CODE             708810 non-null  int64  \n",
            " 1   EVT_DESC             708770 non-null  object \n",
            " 2   EVT_TYPE             708810 non-null  object \n",
            " 3   EVT_DATE             708810 non-null  object \n",
            " 4   EVT_OBJECT           708810 non-null  object \n",
            " 5   EVT_START            296356 non-null  object \n",
            " 6   EVT_COMPLETED        701290 non-null  object \n",
            " 7   EVT_CREATED          708810 non-null  object \n",
            " 8   EVT_COMPLETED_TRUNC  701290 non-null  object \n",
            " 9   OBJ_OBTYPE           708810 non-null  object \n",
            " 10  OBJ_CODE             708810 non-null  object \n",
            " 11  OBJ_DESC             708810 non-null  object \n",
            " 12  OBJ_XLOCATION        708810 non-null  float64\n",
            " 13  OBJ_YLOCATION        708810 non-null  float64\n",
            " 14  BOROUGH              708810 non-null  object \n",
            " 15  COMMUNITYBOARD       708810 non-null  object \n",
            " 16  COUNCILDISTRICT      708644 non-null  float64\n",
            " 17  DEPARTMENT           708810 non-null  object \n",
            " 18  GISPROPNUM           708810 non-null  object \n",
            " 19  OMPPROPID            708810 non-null  object \n",
            " 20  SIGNNAME             708810 non-null  object \n",
            "dtypes: float64(3), int64(1), object(17)\n",
            "memory usage: 119.0+ MB\n"
          ],
          "name": "stdout"
        }
      ]
    },
    {
      "cell_type": "markdown",
      "metadata": {
        "id": "XLVEyx9MJLoJ",
        "colab_type": "text"
      },
      "source": [
        "Setting 'EVT_CODE' as the table index. "
      ]
    },
    {
      "cell_type": "code",
      "metadata": {
        "id": "LgK_ve1RXzWr",
        "colab_type": "code",
        "outputId": "ec660c9f-179a-4c25-b7c5-436b0cab0047",
        "colab": {
          "base_uri": "https://localhost:8080/",
          "height": 194
        }
      },
      "source": [
        "dpr_wo_final.set_index(['EVT_CODE'], drop=True, inplace=False).head(1)"
      ],
      "execution_count": 12,
      "outputs": [
        {
          "output_type": "execute_result",
          "data": {
            "text/html": [
              "<div>\n",
              "<style scoped>\n",
              "    .dataframe tbody tr th:only-of-type {\n",
              "        vertical-align: middle;\n",
              "    }\n",
              "\n",
              "    .dataframe tbody tr th {\n",
              "        vertical-align: top;\n",
              "    }\n",
              "\n",
              "    .dataframe thead th {\n",
              "        text-align: right;\n",
              "    }\n",
              "</style>\n",
              "<table border=\"1\" class=\"dataframe\">\n",
              "  <thead>\n",
              "    <tr style=\"text-align: right;\">\n",
              "      <th></th>\n",
              "      <th>EVT_DESC</th>\n",
              "      <th>EVT_TYPE</th>\n",
              "      <th>EVT_DATE</th>\n",
              "      <th>EVT_OBJECT</th>\n",
              "      <th>EVT_START</th>\n",
              "      <th>EVT_COMPLETED</th>\n",
              "      <th>EVT_CREATED</th>\n",
              "      <th>EVT_COMPLETED_TRUNC</th>\n",
              "      <th>OBJ_OBTYPE</th>\n",
              "      <th>OBJ_CODE</th>\n",
              "      <th>OBJ_DESC</th>\n",
              "      <th>OBJ_XLOCATION</th>\n",
              "      <th>OBJ_YLOCATION</th>\n",
              "      <th>BOROUGH</th>\n",
              "      <th>COMMUNITYBOARD</th>\n",
              "      <th>COUNCILDISTRICT</th>\n",
              "      <th>DEPARTMENT</th>\n",
              "      <th>GISPROPNUM</th>\n",
              "      <th>OMPPROPID</th>\n",
              "      <th>SIGNNAME</th>\n",
              "    </tr>\n",
              "    <tr>\n",
              "      <th>EVT_CODE</th>\n",
              "      <th></th>\n",
              "      <th></th>\n",
              "      <th></th>\n",
              "      <th></th>\n",
              "      <th></th>\n",
              "      <th></th>\n",
              "      <th></th>\n",
              "      <th></th>\n",
              "      <th></th>\n",
              "      <th></th>\n",
              "      <th></th>\n",
              "      <th></th>\n",
              "      <th></th>\n",
              "      <th></th>\n",
              "      <th></th>\n",
              "      <th></th>\n",
              "      <th></th>\n",
              "      <th></th>\n",
              "      <th></th>\n",
              "      <th></th>\n",
              "    </tr>\n",
              "  </thead>\n",
              "  <tbody>\n",
              "    <tr>\n",
              "      <th>1853327</th>\n",
              "      <td>DELIVERY of 30 c/y of soil/compost mix to Sout...</td>\n",
              "      <td>JOB</td>\n",
              "      <td>Feb  1 2019  4:15PM</td>\n",
              "      <td>B559</td>\n",
              "      <td>NaN</td>\n",
              "      <td>NaN</td>\n",
              "      <td>Feb  1 2019  4:16PM</td>\n",
              "      <td>NaN</td>\n",
              "      <td>S</td>\n",
              "      <td>B559</td>\n",
              "      <td>South Brooklyn Children's Garden</td>\n",
              "      <td>983446.465505</td>\n",
              "      <td>188936.088384</td>\n",
              "      <td>B</td>\n",
              "      <td>306</td>\n",
              "      <td>39.0</td>\n",
              "      <td>B-06</td>\n",
              "      <td>B559</td>\n",
              "      <td>B559</td>\n",
              "      <td>South Brooklyn Children's Garden</td>\n",
              "    </tr>\n",
              "  </tbody>\n",
              "</table>\n",
              "</div>"
            ],
            "text/plain": [
              "                                                   EVT_DESC  ...                          SIGNNAME\n",
              "EVT_CODE                                                     ...                                  \n",
              "1853327   DELIVERY of 30 c/y of soil/compost mix to Sout...  ...  South Brooklyn Children's Garden\n",
              "\n",
              "[1 rows x 20 columns]"
            ]
          },
          "metadata": {
            "tags": []
          },
          "execution_count": 12
        }
      ]
    },
    {
      "cell_type": "markdown",
      "metadata": {
        "id": "_GscSHxHKiv5",
        "colab_type": "text"
      },
      "source": [
        "Adding Columns:\n",
        "* Creating a 'year_create' and 'year_completed' column\n",
        "* Seperating the year from the date columns\n",
        "* So we can look at how many work orders have been created and completed each year.  "
      ]
    },
    {
      "cell_type": "code",
      "metadata": {
        "id": "qvPdX8rCiqhV",
        "colab_type": "code",
        "colab": {}
      },
      "source": [
        "def convert_to_year(dt):\n",
        "  return pd.to_datetime(dt).year"
      ],
      "execution_count": 0,
      "outputs": []
    },
    {
      "cell_type": "code",
      "metadata": {
        "id": "-Pgwllg6FriM",
        "colab_type": "code",
        "outputId": "ca5cf1a8-5e74-46c2-d26e-a7c1a2acbd86",
        "colab": {
          "base_uri": "https://localhost:8080/",
          "height": 265
        }
      },
      "source": [
        "dpr_wo_final['year_create'] = dpr_wo_final['EVT_CREATED'].apply(convert_to_year)\n",
        "dpr_wo_final.head(1)"
      ],
      "execution_count": 14,
      "outputs": [
        {
          "output_type": "stream",
          "text": [
            "/usr/local/lib/python3.6/dist-packages/ipykernel_launcher.py:1: SettingWithCopyWarning: \n",
            "A value is trying to be set on a copy of a slice from a DataFrame.\n",
            "Try using .loc[row_indexer,col_indexer] = value instead\n",
            "\n",
            "See the caveats in the documentation: https://pandas.pydata.org/pandas-docs/stable/user_guide/indexing.html#returning-a-view-versus-a-copy\n",
            "  \"\"\"Entry point for launching an IPython kernel.\n"
          ],
          "name": "stderr"
        },
        {
          "output_type": "execute_result",
          "data": {
            "text/html": [
              "<div>\n",
              "<style scoped>\n",
              "    .dataframe tbody tr th:only-of-type {\n",
              "        vertical-align: middle;\n",
              "    }\n",
              "\n",
              "    .dataframe tbody tr th {\n",
              "        vertical-align: top;\n",
              "    }\n",
              "\n",
              "    .dataframe thead th {\n",
              "        text-align: right;\n",
              "    }\n",
              "</style>\n",
              "<table border=\"1\" class=\"dataframe\">\n",
              "  <thead>\n",
              "    <tr style=\"text-align: right;\">\n",
              "      <th></th>\n",
              "      <th>EVT_CODE</th>\n",
              "      <th>EVT_DESC</th>\n",
              "      <th>EVT_TYPE</th>\n",
              "      <th>EVT_DATE</th>\n",
              "      <th>EVT_OBJECT</th>\n",
              "      <th>EVT_START</th>\n",
              "      <th>EVT_COMPLETED</th>\n",
              "      <th>EVT_CREATED</th>\n",
              "      <th>EVT_COMPLETED_TRUNC</th>\n",
              "      <th>OBJ_OBTYPE</th>\n",
              "      <th>OBJ_CODE</th>\n",
              "      <th>OBJ_DESC</th>\n",
              "      <th>OBJ_XLOCATION</th>\n",
              "      <th>OBJ_YLOCATION</th>\n",
              "      <th>BOROUGH</th>\n",
              "      <th>COMMUNITYBOARD</th>\n",
              "      <th>COUNCILDISTRICT</th>\n",
              "      <th>DEPARTMENT</th>\n",
              "      <th>GISPROPNUM</th>\n",
              "      <th>OMPPROPID</th>\n",
              "      <th>SIGNNAME</th>\n",
              "      <th>year_create</th>\n",
              "    </tr>\n",
              "  </thead>\n",
              "  <tbody>\n",
              "    <tr>\n",
              "      <th>0</th>\n",
              "      <td>1853327</td>\n",
              "      <td>DELIVERY of 30 c/y of soil/compost mix to Sout...</td>\n",
              "      <td>JOB</td>\n",
              "      <td>Feb  1 2019  4:15PM</td>\n",
              "      <td>B559</td>\n",
              "      <td>NaN</td>\n",
              "      <td>NaN</td>\n",
              "      <td>Feb  1 2019  4:16PM</td>\n",
              "      <td>NaN</td>\n",
              "      <td>S</td>\n",
              "      <td>B559</td>\n",
              "      <td>South Brooklyn Children's Garden</td>\n",
              "      <td>983446.465505</td>\n",
              "      <td>188936.088384</td>\n",
              "      <td>B</td>\n",
              "      <td>306</td>\n",
              "      <td>39.0</td>\n",
              "      <td>B-06</td>\n",
              "      <td>B559</td>\n",
              "      <td>B559</td>\n",
              "      <td>South Brooklyn Children's Garden</td>\n",
              "      <td>2019</td>\n",
              "    </tr>\n",
              "  </tbody>\n",
              "</table>\n",
              "</div>"
            ],
            "text/plain": [
              "   EVT_CODE  ... year_create\n",
              "0   1853327  ...        2019\n",
              "\n",
              "[1 rows x 22 columns]"
            ]
          },
          "metadata": {
            "tags": []
          },
          "execution_count": 14
        }
      ]
    },
    {
      "cell_type": "code",
      "metadata": {
        "id": "G2Sx_TrekWtZ",
        "colab_type": "code",
        "outputId": "0f897c7a-687e-48c5-e981-42f3f052e742",
        "colab": {
          "base_uri": "https://localhost:8080/",
          "height": 265
        }
      },
      "source": [
        "dpr_wo_final['year_completed'] = dpr_wo_final['EVT_COMPLETED_TRUNC'].apply(convert_to_year)\n",
        "dpr_wo_final.head(1)"
      ],
      "execution_count": 15,
      "outputs": [
        {
          "output_type": "stream",
          "text": [
            "/usr/local/lib/python3.6/dist-packages/ipykernel_launcher.py:1: SettingWithCopyWarning: \n",
            "A value is trying to be set on a copy of a slice from a DataFrame.\n",
            "Try using .loc[row_indexer,col_indexer] = value instead\n",
            "\n",
            "See the caveats in the documentation: https://pandas.pydata.org/pandas-docs/stable/user_guide/indexing.html#returning-a-view-versus-a-copy\n",
            "  \"\"\"Entry point for launching an IPython kernel.\n"
          ],
          "name": "stderr"
        },
        {
          "output_type": "execute_result",
          "data": {
            "text/html": [
              "<div>\n",
              "<style scoped>\n",
              "    .dataframe tbody tr th:only-of-type {\n",
              "        vertical-align: middle;\n",
              "    }\n",
              "\n",
              "    .dataframe tbody tr th {\n",
              "        vertical-align: top;\n",
              "    }\n",
              "\n",
              "    .dataframe thead th {\n",
              "        text-align: right;\n",
              "    }\n",
              "</style>\n",
              "<table border=\"1\" class=\"dataframe\">\n",
              "  <thead>\n",
              "    <tr style=\"text-align: right;\">\n",
              "      <th></th>\n",
              "      <th>EVT_CODE</th>\n",
              "      <th>EVT_DESC</th>\n",
              "      <th>EVT_TYPE</th>\n",
              "      <th>EVT_DATE</th>\n",
              "      <th>EVT_OBJECT</th>\n",
              "      <th>EVT_START</th>\n",
              "      <th>EVT_COMPLETED</th>\n",
              "      <th>EVT_CREATED</th>\n",
              "      <th>EVT_COMPLETED_TRUNC</th>\n",
              "      <th>OBJ_OBTYPE</th>\n",
              "      <th>OBJ_CODE</th>\n",
              "      <th>OBJ_DESC</th>\n",
              "      <th>OBJ_XLOCATION</th>\n",
              "      <th>OBJ_YLOCATION</th>\n",
              "      <th>BOROUGH</th>\n",
              "      <th>COMMUNITYBOARD</th>\n",
              "      <th>COUNCILDISTRICT</th>\n",
              "      <th>DEPARTMENT</th>\n",
              "      <th>GISPROPNUM</th>\n",
              "      <th>OMPPROPID</th>\n",
              "      <th>SIGNNAME</th>\n",
              "      <th>year_create</th>\n",
              "      <th>year_completed</th>\n",
              "    </tr>\n",
              "  </thead>\n",
              "  <tbody>\n",
              "    <tr>\n",
              "      <th>0</th>\n",
              "      <td>1853327</td>\n",
              "      <td>DELIVERY of 30 c/y of soil/compost mix to Sout...</td>\n",
              "      <td>JOB</td>\n",
              "      <td>Feb  1 2019  4:15PM</td>\n",
              "      <td>B559</td>\n",
              "      <td>NaN</td>\n",
              "      <td>NaN</td>\n",
              "      <td>Feb  1 2019  4:16PM</td>\n",
              "      <td>NaN</td>\n",
              "      <td>S</td>\n",
              "      <td>B559</td>\n",
              "      <td>South Brooklyn Children's Garden</td>\n",
              "      <td>983446.465505</td>\n",
              "      <td>188936.088384</td>\n",
              "      <td>B</td>\n",
              "      <td>306</td>\n",
              "      <td>39.0</td>\n",
              "      <td>B-06</td>\n",
              "      <td>B559</td>\n",
              "      <td>B559</td>\n",
              "      <td>South Brooklyn Children's Garden</td>\n",
              "      <td>2019</td>\n",
              "      <td>NaN</td>\n",
              "    </tr>\n",
              "  </tbody>\n",
              "</table>\n",
              "</div>"
            ],
            "text/plain": [
              "   EVT_CODE  ... year_completed\n",
              "0   1853327  ...            NaN\n",
              "\n",
              "[1 rows x 23 columns]"
            ]
          },
          "metadata": {
            "tags": []
          },
          "execution_count": 15
        }
      ]
    },
    {
      "cell_type": "markdown",
      "metadata": {
        "id": "D8cVp8OVN9Lq",
        "colab_type": "text"
      },
      "source": [
        "Create csv file as back up. "
      ]
    },
    {
      "cell_type": "code",
      "metadata": {
        "id": "PptnDn6eE0wY",
        "colab_type": "code",
        "colab": {}
      },
      "source": [
        "dpr_wo_final.to_csv('dpr_wo_final.csv')"
      ],
      "execution_count": 0,
      "outputs": []
    },
    {
      "cell_type": "markdown",
      "metadata": {
        "id": "2bQoLVTM96Re",
        "colab_type": "text"
      },
      "source": [
        "# **Step 5 - Analysis**\n",
        "\n",
        "---\n",
        "\n"
      ]
    },
    {
      "cell_type": "markdown",
      "metadata": {
        "id": "gWwYlId8ODur",
        "colab_type": "text"
      },
      "source": [
        "\n",
        "# **Calculate the sum of created and completed work orders.**"
      ]
    },
    {
      "cell_type": "code",
      "metadata": {
        "id": "Hzjqer2dltad",
        "colab_type": "code",
        "outputId": "1606014b-d8d2-4f3d-e757-3b700cb262f0",
        "colab": {
          "base_uri": "https://localhost:8080/",
          "height": 50
        }
      },
      "source": [
        "print('number of work orders created:', dpr_wo_final['year_create'].notnull().sum())\n",
        "print('number of work orders completed:', dpr_wo_final['year_completed'].notnull().sum())"
      ],
      "execution_count": 17,
      "outputs": [
        {
          "output_type": "stream",
          "text": [
            "number of work orders created: 708810\n",
            "number of work orders completed: 701290\n"
          ],
          "name": "stdout"
        }
      ]
    },
    {
      "cell_type": "markdown",
      "metadata": {
        "id": "tB8K9gxljPl0",
        "colab_type": "text"
      },
      "source": [
        "# **Distribution of Work Orders Histogram**\n"
      ]
    },
    {
      "cell_type": "code",
      "metadata": {
        "id": "IcU0FeQGbSOh",
        "colab_type": "code",
        "outputId": "a9615e3d-a336-467c-c8f3-11a0ecaff958",
        "colab": {
          "base_uri": "https://localhost:8080/",
          "height": 295
        }
      },
      "source": [
        "dpr_wo_final['year_create'].plot(kind='hist')\n",
        "# set the title\n",
        "plt.title('Distribution of Work Orders')\n",
        "\n",
        "# add a label to the x-axis\n",
        "plt.xlabel('Year Created')\n",
        "\n",
        "plt.show()"
      ],
      "execution_count": 18,
      "outputs": [
        {
          "output_type": "display_data",
          "data": {
            "image/png": "[encoded data removed]",
            "text/plain": [
              "<Figure size 432x288 with 1 Axes>"
            ]
          },
          "metadata": {
            "tags": [],
            "needs_background": "light"
          }
        }
      ]
    },
    {
      "cell_type": "markdown",
      "metadata": {
        "id": "g_TnHmVgjW72",
        "colab_type": "text"
      },
      "source": [
        "# **Group By Tables**\n",
        "\n",
        "Displaying Percent Work Orders Completed per Year\n"
      ]
    },
    {
      "cell_type": "code",
      "metadata": {
        "id": "geoqXVnog0wz",
        "colab_type": "code",
        "outputId": "71aeb771-6bba-4ba0-f756-9b6b6f2db2d0",
        "colab": {
          "base_uri": "https://localhost:8080/",
          "height": 402
        }
      },
      "source": [
        "created_year = dpr_wo_final.groupby('year_create')['EVT_CODE'].count().rename('WO Created')\n",
        "completed_year = dpr_wo_final.groupby('year_completed')['EVT_CODE'].count().rename('WO Completed')\n",
        "percent_complete = (completed_year/created_year*100).rename('Percent Completed')\n",
        "\n",
        "tot_wo_per_year = pd.concat([created_year,completed_year,percent_complete], axis=1)\n",
        "tot_wo_per_year.round()"
      ],
      "execution_count": 19,
      "outputs": [
        {
          "output_type": "execute_result",
          "data": {
            "text/html": [
              "<div>\n",
              "<style scoped>\n",
              "    .dataframe tbody tr th:only-of-type {\n",
              "        vertical-align: middle;\n",
              "    }\n",
              "\n",
              "    .dataframe tbody tr th {\n",
              "        vertical-align: top;\n",
              "    }\n",
              "\n",
              "    .dataframe thead th {\n",
              "        text-align: right;\n",
              "    }\n",
              "</style>\n",
              "<table border=\"1\" class=\"dataframe\">\n",
              "  <thead>\n",
              "    <tr style=\"text-align: right;\">\n",
              "      <th></th>\n",
              "      <th>WO Created</th>\n",
              "      <th>WO Completed</th>\n",
              "      <th>Percent Completed</th>\n",
              "    </tr>\n",
              "  </thead>\n",
              "  <tbody>\n",
              "    <tr>\n",
              "      <th>2009.0</th>\n",
              "      <td>9160</td>\n",
              "      <td>6958</td>\n",
              "      <td>76.0</td>\n",
              "    </tr>\n",
              "    <tr>\n",
              "      <th>2010.0</th>\n",
              "      <td>31842</td>\n",
              "      <td>29705</td>\n",
              "      <td>93.0</td>\n",
              "    </tr>\n",
              "    <tr>\n",
              "      <th>2011.0</th>\n",
              "      <td>53742</td>\n",
              "      <td>50256</td>\n",
              "      <td>94.0</td>\n",
              "    </tr>\n",
              "    <tr>\n",
              "      <th>2012.0</th>\n",
              "      <td>66733</td>\n",
              "      <td>67590</td>\n",
              "      <td>101.0</td>\n",
              "    </tr>\n",
              "    <tr>\n",
              "      <th>2013.0</th>\n",
              "      <td>75680</td>\n",
              "      <td>75918</td>\n",
              "      <td>100.0</td>\n",
              "    </tr>\n",
              "    <tr>\n",
              "      <th>2014.0</th>\n",
              "      <td>100464</td>\n",
              "      <td>97866</td>\n",
              "      <td>97.0</td>\n",
              "    </tr>\n",
              "    <tr>\n",
              "      <th>2015.0</th>\n",
              "      <td>104823</td>\n",
              "      <td>105434</td>\n",
              "      <td>101.0</td>\n",
              "    </tr>\n",
              "    <tr>\n",
              "      <th>2016.0</th>\n",
              "      <td>84502</td>\n",
              "      <td>85549</td>\n",
              "      <td>101.0</td>\n",
              "    </tr>\n",
              "    <tr>\n",
              "      <th>2017.0</th>\n",
              "      <td>66022</td>\n",
              "      <td>66317</td>\n",
              "      <td>100.0</td>\n",
              "    </tr>\n",
              "    <tr>\n",
              "      <th>2018.0</th>\n",
              "      <td>62160</td>\n",
              "      <td>60746</td>\n",
              "      <td>98.0</td>\n",
              "    </tr>\n",
              "    <tr>\n",
              "      <th>2019.0</th>\n",
              "      <td>43049</td>\n",
              "      <td>44884</td>\n",
              "      <td>104.0</td>\n",
              "    </tr>\n",
              "    <tr>\n",
              "      <th>2020.0</th>\n",
              "      <td>10633</td>\n",
              "      <td>10067</td>\n",
              "      <td>95.0</td>\n",
              "    </tr>\n",
              "  </tbody>\n",
              "</table>\n",
              "</div>"
            ],
            "text/plain": [
              "        WO Created  WO Completed  Percent Completed\n",
              "2009.0        9160          6958               76.0\n",
              "2010.0       31842         29705               93.0\n",
              "2011.0       53742         50256               94.0\n",
              "2012.0       66733         67590              101.0\n",
              "2013.0       75680         75918              100.0\n",
              "2014.0      100464         97866               97.0\n",
              "2015.0      104823        105434              101.0\n",
              "2016.0       84502         85549              101.0\n",
              "2017.0       66022         66317              100.0\n",
              "2018.0       62160         60746               98.0\n",
              "2019.0       43049         44884              104.0\n",
              "2020.0       10633         10067               95.0"
            ]
          },
          "metadata": {
            "tags": []
          },
          "execution_count": 19
        }
      ]
    },
    {
      "cell_type": "markdown",
      "metadata": {
        "id": "8tXMZ1ubky9x",
        "colab_type": "text"
      },
      "source": [
        "# **Comparing Work Orders that have been created vs. completed through a 10 year period.**\n",
        "\n",
        "\n"
      ]
    },
    {
      "cell_type": "code",
      "metadata": {
        "id": "CbZOA6Z3eaNW",
        "colab_type": "code",
        "colab": {
          "base_uri": "https://localhost:8080/",
          "height": 295
        },
        "outputId": "1d7cd9ba-bb80-4267-c555-eb80728830a6"
      },
      "source": [
        "tot_wo_count_per_year = pd.concat([created_year,completed_year], axis=1)\n",
        "tot_wo_count_per_year.round()\n",
        "\n",
        "tot_wo_count_per_year.plot()\n",
        "\n",
        "# Add a title\n",
        "plt.title('Work Orders per Year')\n",
        "\n",
        "# Add x- and y-axis labels\n",
        "plt.xlabel('Year')\n",
        "plt.ylabel('Count')\n",
        "\n",
        "plt.show()"
      ],
      "execution_count": 49,
      "outputs": [
        {
          "output_type": "display_data",
          "data": {
            "image/png": "[encoded data removed]",
            "text/plain": [
              "<Figure size 432x288 with 1 Axes>"
            ]
          },
          "metadata": {
            "tags": [],
            "needs_background": "light"
          }
        }
      ]
    },
    {
      "cell_type": "markdown",
      "metadata": {
        "id": "gNTFQ2Qg4fJh",
        "colab_type": "text"
      },
      "source": [
        "\n",
        "\n",
        "# **Displaying Number of Work Orders by Year**\n",
        "\n"
      ]
    },
    {
      "cell_type": "code",
      "metadata": {
        "id": "1REM96Dj_soI",
        "colab_type": "code",
        "outputId": "d07bf862-bbe3-4866-9eae-1f34a64898bc",
        "colab": {
          "base_uri": "https://localhost:8080/",
          "height": 311
        }
      },
      "source": [
        "# Plot a count of movies per genre in a bar chart\n",
        "dpr_wo_final['year_create'].value_counts().plot(kind='bar')\n",
        "\n",
        "# Add title\n",
        "plt.title('Number of Work Orders by Year')\n",
        "\n",
        "# Customize x/y-axis label\n",
        "plt.ylabel('Number of Work Orders')\n",
        "plt.xlabel('Year')\n",
        "\n",
        "plt.show()"
      ],
      "execution_count": 36,
      "outputs": [
        {
          "output_type": "display_data",
          "data": {
            "image/png": "[encoded data removed]",
            "text/plain": [
              "<Figure size 432x288 with 1 Axes>"
            ]
          },
          "metadata": {
            "tags": [],
            "needs_background": "light"
          }
        }
      ]
    },
    {
      "cell_type": "markdown",
      "metadata": {
        "id": "T2LUpgHEVoa7",
        "colab_type": "text"
      },
      "source": [
        "# **Creating a table to look at total count of work orders created and completed by borough**"
      ]
    },
    {
      "cell_type": "code",
      "metadata": {
        "id": "dN39D6sPQx9M",
        "colab_type": "code",
        "colab": {
          "base_uri": "https://localhost:8080/",
          "height": 225
        },
        "outputId": "ca9af179-f772-4cb1-a953-e11f36fc0464"
      },
      "source": [
        "# Total Work Orders Created\n",
        "created_boro = dpr_wo_final.groupby('BOROUGH')['year_create'].count().rename('Total Created')\n",
        "\n",
        "# Total Work Orders Completed\n",
        "completed_boro = dpr_wo_final.groupby('BOROUGH')['year_completed'].count().rename('Total Completed')\n",
        "\n",
        "\n",
        "# Total count of work orders created/completed by Borough\n",
        "tot_wo_per_boro = pd.concat([created_boro, completed_boro], axis=1)\n",
        "tot_wo_per_boro.round().head()"
      ],
      "execution_count": 21,
      "outputs": [
        {
          "output_type": "execute_result",
          "data": {
            "text/html": [
              "<div>\n",
              "<style scoped>\n",
              "    .dataframe tbody tr th:only-of-type {\n",
              "        vertical-align: middle;\n",
              "    }\n",
              "\n",
              "    .dataframe tbody tr th {\n",
              "        vertical-align: top;\n",
              "    }\n",
              "\n",
              "    .dataframe thead th {\n",
              "        text-align: right;\n",
              "    }\n",
              "</style>\n",
              "<table border=\"1\" class=\"dataframe\">\n",
              "  <thead>\n",
              "    <tr style=\"text-align: right;\">\n",
              "      <th></th>\n",
              "      <th>Total Created</th>\n",
              "      <th>Total Completed</th>\n",
              "    </tr>\n",
              "    <tr>\n",
              "      <th>BOROUGH</th>\n",
              "      <th></th>\n",
              "      <th></th>\n",
              "    </tr>\n",
              "  </thead>\n",
              "  <tbody>\n",
              "    <tr>\n",
              "      <th>B</th>\n",
              "      <td>249096</td>\n",
              "      <td>245595</td>\n",
              "    </tr>\n",
              "    <tr>\n",
              "      <th>M</th>\n",
              "      <td>162343</td>\n",
              "      <td>160937</td>\n",
              "    </tr>\n",
              "    <tr>\n",
              "      <th>Q</th>\n",
              "      <td>147589</td>\n",
              "      <td>145952</td>\n",
              "    </tr>\n",
              "    <tr>\n",
              "      <th>R</th>\n",
              "      <td>34154</td>\n",
              "      <td>33781</td>\n",
              "    </tr>\n",
              "    <tr>\n",
              "      <th>X</th>\n",
              "      <td>115628</td>\n",
              "      <td>115025</td>\n",
              "    </tr>\n",
              "  </tbody>\n",
              "</table>\n",
              "</div>"
            ],
            "text/plain": [
              "         Total Created  Total Completed\n",
              "BOROUGH                                \n",
              "B               249096           245595\n",
              "M               162343           160937\n",
              "Q               147589           145952\n",
              "R                34154            33781\n",
              "X               115628           115025"
            ]
          },
          "metadata": {
            "tags": []
          },
          "execution_count": 21
        }
      ]
    },
    {
      "cell_type": "markdown",
      "metadata": {
        "id": "xLswCagHlgo_",
        "colab_type": "text"
      },
      "source": [
        "\n",
        "> **Creating a Bar Chart to compare total count of work orders created and completed by borough**"
      ]
    },
    {
      "cell_type": "code",
      "metadata": {
        "id": "6b8vVRMpdHkS",
        "colab_type": "code",
        "outputId": "84d90d95-6fa5-49d9-81e2-2a8894d511d5",
        "colab": {
          "base_uri": "https://localhost:8080/",
          "height": 295
        }
      },
      "source": [
        "ax = sns.countplot(x=\"year_create\", hue=\"BOROUGH\", data=dpr_wo_final)\n",
        "plt.title('Number of Created Work Orders per Borough')\n",
        "plt.ylabel('Count')\n",
        "plt.xlabel('Year')\n",
        "plt.show()"
      ],
      "execution_count": 55,
      "outputs": [
        {
          "output_type": "display_data",
          "data": {
            "image/png": "[encoded data removed]",
            "text/plain": [
              "<Figure size 432x288 with 1 Axes>"
            ]
          },
          "metadata": {
            "tags": [],
            "needs_background": "light"
          }
        }
      ]
    },
    {
      "cell_type": "code",
      "metadata": {
        "id": "3Q5WdWDc4Ute",
        "colab_type": "code",
        "outputId": "3fee5191-5c64-40fc-dcd4-a32f26fbd911",
        "colab": {
          "base_uri": "https://localhost:8080/",
          "height": 295
        }
      },
      "source": [
        "ax = sns.countplot(x=dpr_wo_final['year_completed'].dropna(), hue=dpr_wo_final['BOROUGH'])\n",
        "plt.title('Number of Completed Work Orders per Borough')\n",
        "plt.ylabel('Count')\n",
        "plt.xlabel('Year')\n",
        "plt.show()"
      ],
      "execution_count": 44,
      "outputs": [
        {
          "output_type": "display_data",
          "data": {
            "image/png": "[encoded data removed]",
            "text/plain": [
              "<Figure size 432x288 with 1 Axes>"
            ]
          },
          "metadata": {
            "tags": [],
            "needs_background": "light"
          }
        }
      ]
    },
    {
      "cell_type": "markdown",
      "metadata": {
        "id": "HVWB18HU3hVP",
        "colab_type": "text"
      },
      "source": [
        "# **Looking at Work Orders Created in 2019**\n",
        "* Issues:\n",
        "    * Couldn't figure out how to ONLY show 2019 data\n",
        "    * Rename the x axis labels to Other years/2019\n",
        "\n",
        "\n",
        "\n"
      ]
    },
    {
      "cell_type": "code",
      "metadata": {
        "colab_type": "code",
        "outputId": "9fec9164-5262-4be9-c1fd-c35f9f25d4ce",
        "id": "UJrg78ZTs2VI",
        "colab": {
          "base_uri": "https://localhost:8080/",
          "height": 295
        }
      },
      "source": [
        "ax = sns.countplot(x=dpr_wo_final['year_completed'].isin([2019]), hue=dpr_wo_final['BOROUGH'])\n",
        "plt.title('2019 Completed Work Orders per Borough')\n",
        "plt.ylabel('Count')\n",
        "plt.xlabel('Year')\n",
        "plt.show()"
      ],
      "execution_count": 88,
      "outputs": [
        {
          "output_type": "display_data",
          "data": {
            "image/png": "[encoded data removed]",
            "text/plain": [
              "<Figure size 432x288 with 1 Axes>"
            ]
          },
          "metadata": {
            "tags": [],
            "needs_background": "light"
          }
        }
      ]
    },
    {
      "cell_type": "markdown",
      "metadata": {
        "id": "32nQ7EtxITLj",
        "colab_type": "text"
      },
      "source": [
        "# **NYC Parks with the most work Orders**\n",
        "* Issues:\n",
        "    * Couldn't figure out how to eliminate Signname = Park from the bar chart as it obscures the data. "
      ]
    },
    {
      "cell_type": "code",
      "metadata": {
        "id": "_-J8ZfODu6vY",
        "colab_type": "code",
        "colab": {
          "base_uri": "https://localhost:8080/",
          "height": 310
        },
        "outputId": "a632f72d-54c9-409f-de97-a01f63777ca4"
      },
      "source": [
        "year_count  = dpr_wo_final['SIGNNAME'].value_counts()\n",
        "year_count = year_count[:10,]\n",
        "plt.figure(figsize=(20,5))\n",
        "sns.barplot(year_count.index, year_count.values, alpha=0.8)\n",
        "plt.title('Work Orders created in the Top 10 Parks')\n",
        "plt.ylabel('Number of Occurrences', fontsize=12)\n",
        "plt.xlabel('Park', fontsize=12)\n",
        "plt.show()"
      ],
      "execution_count": 97,
      "outputs": [
        {
          "output_type": "display_data",
          "data": {
            "image/png": "[encoded data removed]",
            "text/plain": [
              "<Figure size 1440x360 with 1 Axes>"
            ]
          },
          "metadata": {
            "tags": [],
            "needs_background": "light"
          }
        }
      ]
    }
  ]
}